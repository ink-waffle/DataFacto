{
 "cells": [
  {
   "cell_type": "code",
   "execution_count": 1,
   "metadata": {
    "collapsed": true,
    "ExecuteTime": {
     "start_time": "2023-09-29T21:41:50.370768Z",
     "end_time": "2023-09-29T21:41:53.242422Z"
    }
   },
   "outputs": [],
   "source": [
    "import pandas as pd\n",
    "from collections import Counter\n",
    "import plotly.express as px\n",
    "import plotly.graph_objects as go\n",
    "import plotly.offline as pyo\n",
    "from plotly.subplots import make_subplots\n",
    "import matplotlib.pyplot as plt\n",
    "import seaborn as sns\n",
    "import numpy as np\n",
    "from urllib.request import urlopen\n",
    "import json\n",
    "import folium\n",
    "from folium.plugins import HeatMap\n",
    "from sklearn.cluster import DBSCAN\n",
    "import geopandas as gpd"
   ]
  },
  {
   "cell_type": "code",
   "execution_count": 2,
   "outputs": [],
   "source": [
    "accidents_df = pd.read_csv('Datasets/accidents_2017.csv')\n",
    "air_quality_df = pd.read_csv('Datasets/air_quality_Nov2017.csv')\n",
    "air_ports_df = pd.read_csv('Datasets/air_stations_Nov2017.csv')\n",
    "births_df = pd.read_csv('Datasets/births.csv')\n",
    "bus_stops_df = pd.read_csv('Datasets/bus_stops.csv')\n",
    "death_df = pd.read_csv('Datasets/deaths.csv')\n",
    "immigrants_nationality_df = pd.read_csv('Datasets/immigrants_by_nationality.csv')\n",
    "migrants_age_df = pd.read_csv('Datasets/immigrants_emigrants_by_age.csv')\n",
    "migrants_destination_df = pd.concat([pd.read_csv('Datasets/immigrants_emigrants_by_destination.csv'),\n",
    "                                     pd.read_csv('Datasets/immigrants_emigrants_by_destination2.csv')])\n",
    "migrants_sex_df = pd.read_csv('Datasets/immigrants_emigrants_by_sex.csv')\n",
    "life_expectancy_df = pd.read_csv('Datasets/life_expectancy.csv')\n",
    "frequent_babies_df = pd.read_csv('Datasets/most_frequent_baby_names.csv')\n",
    "frequent_people_df = pd.read_csv('Datasets/most_frequent_names.csv')\n",
    "population_df = pd.read_csv('Datasets/population.csv')\n",
    "transport_df = pd.read_csv('Datasets/transports.csv')\n",
    "unemployment_df = pd.read_csv('Datasets/unemployment.csv')\n",
    "\n",
    "with open('Datasets/barcelonaMap.geojson', 'r') as file:\n",
    "    gjson_neigh = json.load(file)\n",
    "# response = urlopen('https://raw.githubusercontent.com/martgnz/bcn-geodata/master/districtes/districtes.geojson')\n",
    "# gjson_distr = json.loads(response.read())\n",
    "with open('Datasets/barcelonaMap_Districts.geojson', 'r') as file:\n",
    "    gjson_distr = json.load(file)\n",
    "\n",
    "barcelona_districts_geo = gpd.read_file('Datasets/barcelonaMap.geojson')\n",
    "barcelona_neighborhoods_geo = gpd.read_file('Datasets/barcelonaMap.geojson')\n",
    "\n",
    "# Merge the GeoDataFrame with the population data to get population for each district\n",
    "barcelona_districts_geo = barcelona_districts_geo.merge(population_df.groupby(['Year', 'District.Name']).agg({'Number': np.sum}).reset_index(), left_on='NOM', right_on='District.Name', how='left')\n",
    "\n",
    "barcelona_neighborhoods_geo = barcelona_neighborhoods_geo.merge(population_df.groupby(['Year', 'Neighborhood.Name']).agg({'Number': np.sum}).reset_index(), left_on='NOM', right_on='Neighborhood.Name', how='left')\n",
    "\n"
   ],
   "metadata": {
    "collapsed": false,
    "ExecuteTime": {
     "start_time": "2023-09-29T21:41:53.250431Z",
     "end_time": "2023-09-29T21:41:55.741325Z"
    }
   }
  },
  {
   "cell_type": "code",
   "execution_count": 37,
   "outputs": [
    {
     "data": {
      "text/plain": "          NOM  Number  Area_km2  Population Density\n0    el Raval   48800  1.949834        25027.767760\n1    el Raval   47489  1.949834        24355.402933\n2    el Raval   47142  1.949834        24177.439093\n3    el Raval   47129  1.949834        24170.771860\n4    el Raval   47608  1.949834        24416.433761\n..        ...     ...       ...                 ...\n360  Vallbona    1346  1.090617         1234.164025\n361  Vallbona    1310  1.090617         1201.155180\n362  Vallbona    1335  1.090617         1224.077989\n363  Vallbona    1352  1.090617         1239.665499\n364  Vallbona    1372  1.090617         1258.003746\n\n[365 rows x 4 columns]",
      "text/html": "<div>\n<style scoped>\n    .dataframe tbody tr th:only-of-type {\n        vertical-align: middle;\n    }\n\n    .dataframe tbody tr th {\n        vertical-align: top;\n    }\n\n    .dataframe thead th {\n        text-align: right;\n    }\n</style>\n<table border=\"1\" class=\"dataframe\">\n  <thead>\n    <tr style=\"text-align: right;\">\n      <th></th>\n      <th>NOM</th>\n      <th>Number</th>\n      <th>Area_km2</th>\n      <th>Population Density</th>\n    </tr>\n  </thead>\n  <tbody>\n    <tr>\n      <th>0</th>\n      <td>el Raval</td>\n      <td>48800</td>\n      <td>1.949834</td>\n      <td>25027.767760</td>\n    </tr>\n    <tr>\n      <th>1</th>\n      <td>el Raval</td>\n      <td>47489</td>\n      <td>1.949834</td>\n      <td>24355.402933</td>\n    </tr>\n    <tr>\n      <th>2</th>\n      <td>el Raval</td>\n      <td>47142</td>\n      <td>1.949834</td>\n      <td>24177.439093</td>\n    </tr>\n    <tr>\n      <th>3</th>\n      <td>el Raval</td>\n      <td>47129</td>\n      <td>1.949834</td>\n      <td>24170.771860</td>\n    </tr>\n    <tr>\n      <th>4</th>\n      <td>el Raval</td>\n      <td>47608</td>\n      <td>1.949834</td>\n      <td>24416.433761</td>\n    </tr>\n    <tr>\n      <th>...</th>\n      <td>...</td>\n      <td>...</td>\n      <td>...</td>\n      <td>...</td>\n    </tr>\n    <tr>\n      <th>360</th>\n      <td>Vallbona</td>\n      <td>1346</td>\n      <td>1.090617</td>\n      <td>1234.164025</td>\n    </tr>\n    <tr>\n      <th>361</th>\n      <td>Vallbona</td>\n      <td>1310</td>\n      <td>1.090617</td>\n      <td>1201.155180</td>\n    </tr>\n    <tr>\n      <th>362</th>\n      <td>Vallbona</td>\n      <td>1335</td>\n      <td>1.090617</td>\n      <td>1224.077989</td>\n    </tr>\n    <tr>\n      <th>363</th>\n      <td>Vallbona</td>\n      <td>1352</td>\n      <td>1.090617</td>\n      <td>1239.665499</td>\n    </tr>\n    <tr>\n      <th>364</th>\n      <td>Vallbona</td>\n      <td>1372</td>\n      <td>1.090617</td>\n      <td>1258.003746</td>\n    </tr>\n  </tbody>\n</table>\n<p>365 rows × 4 columns</p>\n</div>"
     },
     "execution_count": 37,
     "metadata": {},
     "output_type": "execute_result"
    }
   ],
   "source": [
    "# Convert the geometries to a projected CRS (here we use EPSG:3395) before calculating the area\n",
    "barcelona_districts_geo = barcelona_districts_geo.to_crs(epsg=3395)\n",
    "\n",
    "# Recalculate the area in square kilometers and population density\n",
    "barcelona_districts_geo['Area_km2'] = barcelona_districts_geo.geometry.area / (10**6)\n",
    "\n",
    "barcelona_districts_geo['Population Density'] = barcelona_districts_geo['Number'] / barcelona_districts_geo['Area_km2']\n",
    "\n",
    "# Display the data\n",
    "barcelona_districts_geo[['NOM', 'Number', 'Area_km2', 'Population Density']]\n",
    "\n",
    "# Convert the geometries to a projected CRS (here we use EPSG:3395) before calculating the area\n",
    "barcelona_neighborhoods_geo = barcelona_neighborhoods_geo.to_crs(epsg=3395)\n",
    "\n",
    "# Recalculate the area in square kilometers and population density\n",
    "barcelona_neighborhoods_geo['Area_km2'] = barcelona_neighborhoods_geo.geometry.area / (10**6)\n",
    "\n",
    "barcelona_neighborhoods_geo['Population Density'] = barcelona_neighborhoods_geo['Number'] / barcelona_neighborhoods_geo['Area_km2']\n",
    "\n",
    "# Display the data\n",
    "barcelona_neighborhoods_geo[['NOM', 'Number', 'Area_km2', 'Population Density']]"
   ],
   "metadata": {
    "collapsed": false,
    "ExecuteTime": {
     "start_time": "2023-09-21T04:26:39.652464Z",
     "end_time": "2023-09-21T04:26:39.728212Z"
    }
   }
  },
  {
   "cell_type": "code",
   "execution_count": 39,
   "outputs": [],
   "source": [
    "metro_stations = transport_df[transport_df['Transport'] == 'Underground'].reset_index()\n",
    "metro_stations = metro_stations[['Longitude', 'Latitude']]\n",
    "clustering = DBSCAN(eps=0.002, min_samples=1)\n",
    "clustering = clustering.fit_predict(metro_stations.to_numpy())\n",
    "clusters_ = dict()\n",
    "for i, raw in metro_stations.iterrows():\n",
    "    if clustering[i] in clusters_:\n",
    "        clusters_[clustering[i]].append([raw['Longitude'], raw['Latitude']])\n",
    "    else:\n",
    "        clusters_[clustering[i]] = list([[raw['Longitude'], raw['Latitude']]])\n",
    "m = folium.Map(location=[41.38879, 2.15899], zoom_start=12)\n",
    "\n",
    "\n",
    "folium.Choropleth(\n",
    "    geo_data=gjson_distr,\n",
    "    data=barcelona_districts_geo,\n",
    "    columns=['NOM', 'Population Density'],\n",
    "    key_on='feature.properties.NOM',\n",
    "    fill_color='YlOrRd',\n",
    "    fill_opacity=0.7,\n",
    "    line_opacity=0.2,\n",
    "    legend_name='Population Density (people per sq km)',\n",
    ").add_to(m)\n",
    "\n",
    "for cluster in clusters_.values():\n",
    "    center = np.mean(np.array(cluster).reshape((-1, 2)), axis=0)\n",
    "    folium.CircleMarker(tuple((center[1], center[0])), radius=1, color=\"black\", fill=True, fill_opacity=1, opacity=1, fill_color=\"black\",\n",
    "                        ).add_to(m)\n",
    "# for idx, row in metro_stations.iterrows():\n",
    "#     folium.Marker([row['Latitude'], row['Longitude']], popup=row['Station']).add_to(m)\n",
    "\n",
    "m.save('Plots/Density_metro.html')\n",
    "\n"
   ],
   "metadata": {
    "collapsed": false,
    "ExecuteTime": {
     "start_time": "2023-09-21T04:27:50.263418Z",
     "end_time": "2023-09-21T04:27:50.459516Z"
    }
   }
  },
  {
   "cell_type": "code",
   "execution_count": 54,
   "outputs": [],
   "source": [
    "metro_stations = transport_df[transport_df['Transport'] == 'Underground'].reset_index()\n",
    "metro_stations = metro_stations[['Longitude', 'Latitude']]\n",
    "clustering = DBSCAN(eps=0.002, min_samples=1)\n",
    "clustering = clustering.fit_predict(metro_stations.to_numpy())\n",
    "clusters_ = dict()\n",
    "for i, raw in metro_stations.iterrows():\n",
    "    if clustering[i] in clusters_:\n",
    "        clusters_[clustering[i]].append([raw['Longitude'], raw['Latitude']])\n",
    "    else:\n",
    "        clusters_[clustering[i]] = list([[raw['Longitude'], raw['Latitude']]])\n",
    "m = folium.Map(location=[41.38879, 2.15899], zoom_start=12)\n",
    "\n",
    "\n",
    "folium.Choropleth(\n",
    "    geo_data=gjson_neigh,\n",
    "    data=barcelona_neighborhoods_geo,\n",
    "    columns=['NOM', 'Population Density'],\n",
    "    key_on='feature.properties.NOM',\n",
    "    tooltip='Population Density',\n",
    "    fill_color='YlOrRd',\n",
    "    fill_opacity=0.7,\n",
    "    line_opacity=0.2,\n",
    "    legend_name='Population Density (people per sq km)',\n",
    "    highlight=True\n",
    ").add_to(m)\n",
    "\n",
    "style_function = lambda x: {'fillColor': '#ffffff', 'color': '#000000', 'fillOpacity': 0, 'weight': 0.1}\n",
    "highlight_function = lambda x: {'fillColor': '#000000', 'color': '#000000', 'fillOpacity': 0.25, 'weight': 0.1}\n",
    "geojson = folium.GeoJson(\n",
    "    barcelona_neighborhoods_geo,\n",
    "    style_function=style_function,\n",
    "    control=False,\n",
    "    highlight_function=highlight_function,\n",
    "    tooltip=folium.features.GeoJsonTooltip(\n",
    "        fields=['NOM', 'Number', 'Population Density', 'Area_km2'],\n",
    "        aliases=['Neighborhood: ', 'Population:', 'Density: ', 'Area: '],\n",
    "        style=(\"background-color: white; color: #333333; font-family: arial; font-size: 12px; padding: 10px;\"),\n",
    "        sticky=True\n",
    "    )\n",
    ").add_to(m)\n",
    "\n",
    "for cluster in clusters_.values():\n",
    "    center = np.mean(np.array(cluster).reshape((-1, 2)), axis=0)\n",
    "    folium.CircleMarker(tuple((center[1], center[0])), radius=1, color=\"black\", fill=True, fill_opacity=1, opacity=1, fill_color=\"black\",\n",
    "                        ).add_to(m)\n",
    "# for idx, row in metro_stations.iterrows():\n",
    "#     folium.Marker([row['Latitude'], row['Longitude']], popup=row['Station']).add_to(m)\n",
    "\n",
    "m.save('Plots/Density_neighborhoods_metro.html')"
   ],
   "metadata": {
    "collapsed": false,
    "ExecuteTime": {
     "start_time": "2023-09-21T04:45:05.488073Z",
     "end_time": "2023-09-21T04:45:09.611947Z"
    }
   }
  },
  {
   "cell_type": "code",
   "execution_count": null,
   "outputs": [],
   "source": [
    "with open('Datasets/barcelonaMap.geojson', 'r') as json_file:\n",
    "    gjson_neigh = json.load(json_file)\n",
    "# gjson_neigh[\"features\"][7]['properties']['NOM'] = 'el Poble Sec' #rename this district to avoid errors with geojson\n",
    "\n",
    "transport_df['Neighborhood.Name'] = transport_df['Neighborhood.Name'].replace(['el Poble-sec'], 'el Poble Sec')\n",
    "temp = transport_df.groupby(['Transport', 'Neighborhood.Name']).nunique().reset_index()\n",
    "\n",
    "px.choropleth_mapbox(temp,\n",
    "                     geojson=gjson_neigh, color='Station', locations='Neighborhood.Name',\n",
    "                     featureidkey=\"properties.NOM\",\n",
    "                     color_continuous_scale=\"Emrld\",\n",
    "                     center={\"lat\": 41.395, \"lon\": 2.18},\n",
    "                     animation_frame='Transport',\n",
    "                     mapbox_style=\"carto-positron\", zoom=10.3, opacity=0.9,\n",
    "                     height=620)\n",
    "\n"
   ],
   "metadata": {
    "collapsed": false
   }
  },
  {
   "cell_type": "code",
   "execution_count": null,
   "outputs": [],
   "source": [
    "df = population_df.groupby(['Year', 'Age', 'District.Name']).agg({'Number': sum}).reset_index()\n",
    "color_sequence = sns.color_palette(palette='viridis', n_colors=len(df['District.Name'].unique()))\n",
    "\n",
    "fig = px.histogram(df, x='Age', y='Number', animation_frame='Year', hover_name='District.Name', color='District.Name',\n",
    "                   color_discrete_sequence=color_sequence[0])\n",
    "fig.update_layout(\n",
    "    xaxis_title='Ages',\n",
    "    yaxis_title='Population',\n",
    "    barmode='group'\n",
    ")\n",
    "# fig.show()\n",
    "pyo.plot(fig, filename='Plots/AgeDistribution_Districts.html', auto_open=False)\n"
   ],
   "metadata": {
    "collapsed": false
   }
  },
  {
   "cell_type": "code",
   "execution_count": 30,
   "outputs": [
    {
     "data": {
      "application/vnd.plotly.v1+json": {
       "data": [
        {
         "alignmentgroup": "True",
         "bingroup": "x",
         "histfunc": "sum",
         "hovertemplate": "variable=Immigrants<br>District Name=%{x}<br>sum of value=%{y}<extra></extra>",
         "legendgroup": "Immigrants",
         "marker": {
          "color": 0.283229,
          "pattern": {
           "shape": ""
          }
         },
         "name": "Immigrants",
         "offsetgroup": "Immigrants",
         "orientation": "v",
         "showlegend": true,
         "x": [
          "Ciutat Vella",
          "Eixample",
          "Gràcia",
          "Horta-Guinardó",
          "Les Corts",
          "No consta",
          "Nou Barris",
          "Sant Andreu",
          "Sant Martí",
          "Sants-Montjuïc",
          "Sarrià-Sant Gervasi"
         ],
         "xaxis": "x",
         "y": [
          35355,
          52700,
          20168,
          21309,
          12570,
          17,
          22560,
          17709,
          35114,
          33125,
          20854
         ],
         "yaxis": "y",
         "type": "histogram"
        },
        {
         "alignmentgroup": "True",
         "bingroup": "x",
         "histfunc": "sum",
         "hovertemplate": "variable=Emigrants<br>District Name=%{x}<br>sum of value=%{y}<extra></extra>",
         "legendgroup": "Emigrants",
         "marker": {
          "color": 0.120777,
          "pattern": {
           "shape": ""
          }
         },
         "name": "Emigrants",
         "offsetgroup": "Emigrants",
         "orientation": "v",
         "showlegend": true,
         "x": [
          "Ciutat Vella",
          "Eixample",
          "Gràcia",
          "Horta-Guinardó",
          "Les Corts",
          "No consta",
          "Nou Barris",
          "Sant Andreu",
          "Sant Martí",
          "Sants-Montjuïc",
          "Sarrià-Sant Gervasi"
         ],
         "xaxis": "x",
         "y": [
          14171,
          26062,
          11009,
          13936,
          7811,
          13,
          14802,
          12563,
          22470,
          21819,
          12379
         ],
         "yaxis": "y",
         "type": "histogram"
        }
       ],
       "layout": {
        "template": {
         "data": {
          "histogram2dcontour": [
           {
            "type": "histogram2dcontour",
            "colorbar": {
             "outlinewidth": 0,
             "ticks": ""
            },
            "colorscale": [
             [
              0.0,
              "#0d0887"
             ],
             [
              0.1111111111111111,
              "#46039f"
             ],
             [
              0.2222222222222222,
              "#7201a8"
             ],
             [
              0.3333333333333333,
              "#9c179e"
             ],
             [
              0.4444444444444444,
              "#bd3786"
             ],
             [
              0.5555555555555556,
              "#d8576b"
             ],
             [
              0.6666666666666666,
              "#ed7953"
             ],
             [
              0.7777777777777778,
              "#fb9f3a"
             ],
             [
              0.8888888888888888,
              "#fdca26"
             ],
             [
              1.0,
              "#f0f921"
             ]
            ]
           }
          ],
          "choropleth": [
           {
            "type": "choropleth",
            "colorbar": {
             "outlinewidth": 0,
             "ticks": ""
            }
           }
          ],
          "histogram2d": [
           {
            "type": "histogram2d",
            "colorbar": {
             "outlinewidth": 0,
             "ticks": ""
            },
            "colorscale": [
             [
              0.0,
              "#0d0887"
             ],
             [
              0.1111111111111111,
              "#46039f"
             ],
             [
              0.2222222222222222,
              "#7201a8"
             ],
             [
              0.3333333333333333,
              "#9c179e"
             ],
             [
              0.4444444444444444,
              "#bd3786"
             ],
             [
              0.5555555555555556,
              "#d8576b"
             ],
             [
              0.6666666666666666,
              "#ed7953"
             ],
             [
              0.7777777777777778,
              "#fb9f3a"
             ],
             [
              0.8888888888888888,
              "#fdca26"
             ],
             [
              1.0,
              "#f0f921"
             ]
            ]
           }
          ],
          "heatmap": [
           {
            "type": "heatmap",
            "colorbar": {
             "outlinewidth": 0,
             "ticks": ""
            },
            "colorscale": [
             [
              0.0,
              "#0d0887"
             ],
             [
              0.1111111111111111,
              "#46039f"
             ],
             [
              0.2222222222222222,
              "#7201a8"
             ],
             [
              0.3333333333333333,
              "#9c179e"
             ],
             [
              0.4444444444444444,
              "#bd3786"
             ],
             [
              0.5555555555555556,
              "#d8576b"
             ],
             [
              0.6666666666666666,
              "#ed7953"
             ],
             [
              0.7777777777777778,
              "#fb9f3a"
             ],
             [
              0.8888888888888888,
              "#fdca26"
             ],
             [
              1.0,
              "#f0f921"
             ]
            ]
           }
          ],
          "heatmapgl": [
           {
            "type": "heatmapgl",
            "colorbar": {
             "outlinewidth": 0,
             "ticks": ""
            },
            "colorscale": [
             [
              0.0,
              "#0d0887"
             ],
             [
              0.1111111111111111,
              "#46039f"
             ],
             [
              0.2222222222222222,
              "#7201a8"
             ],
             [
              0.3333333333333333,
              "#9c179e"
             ],
             [
              0.4444444444444444,
              "#bd3786"
             ],
             [
              0.5555555555555556,
              "#d8576b"
             ],
             [
              0.6666666666666666,
              "#ed7953"
             ],
             [
              0.7777777777777778,
              "#fb9f3a"
             ],
             [
              0.8888888888888888,
              "#fdca26"
             ],
             [
              1.0,
              "#f0f921"
             ]
            ]
           }
          ],
          "contourcarpet": [
           {
            "type": "contourcarpet",
            "colorbar": {
             "outlinewidth": 0,
             "ticks": ""
            }
           }
          ],
          "contour": [
           {
            "type": "contour",
            "colorbar": {
             "outlinewidth": 0,
             "ticks": ""
            },
            "colorscale": [
             [
              0.0,
              "#0d0887"
             ],
             [
              0.1111111111111111,
              "#46039f"
             ],
             [
              0.2222222222222222,
              "#7201a8"
             ],
             [
              0.3333333333333333,
              "#9c179e"
             ],
             [
              0.4444444444444444,
              "#bd3786"
             ],
             [
              0.5555555555555556,
              "#d8576b"
             ],
             [
              0.6666666666666666,
              "#ed7953"
             ],
             [
              0.7777777777777778,
              "#fb9f3a"
             ],
             [
              0.8888888888888888,
              "#fdca26"
             ],
             [
              1.0,
              "#f0f921"
             ]
            ]
           }
          ],
          "surface": [
           {
            "type": "surface",
            "colorbar": {
             "outlinewidth": 0,
             "ticks": ""
            },
            "colorscale": [
             [
              0.0,
              "#0d0887"
             ],
             [
              0.1111111111111111,
              "#46039f"
             ],
             [
              0.2222222222222222,
              "#7201a8"
             ],
             [
              0.3333333333333333,
              "#9c179e"
             ],
             [
              0.4444444444444444,
              "#bd3786"
             ],
             [
              0.5555555555555556,
              "#d8576b"
             ],
             [
              0.6666666666666666,
              "#ed7953"
             ],
             [
              0.7777777777777778,
              "#fb9f3a"
             ],
             [
              0.8888888888888888,
              "#fdca26"
             ],
             [
              1.0,
              "#f0f921"
             ]
            ]
           }
          ],
          "mesh3d": [
           {
            "type": "mesh3d",
            "colorbar": {
             "outlinewidth": 0,
             "ticks": ""
            }
           }
          ],
          "scatter": [
           {
            "marker": {
             "line": {
              "color": "#283442"
             }
            },
            "type": "scatter"
           }
          ],
          "parcoords": [
           {
            "type": "parcoords",
            "line": {
             "colorbar": {
              "outlinewidth": 0,
              "ticks": ""
             }
            }
           }
          ],
          "scatterpolargl": [
           {
            "type": "scatterpolargl",
            "marker": {
             "colorbar": {
              "outlinewidth": 0,
              "ticks": ""
             }
            }
           }
          ],
          "bar": [
           {
            "error_x": {
             "color": "#f2f5fa"
            },
            "error_y": {
             "color": "#f2f5fa"
            },
            "marker": {
             "line": {
              "color": "rgb(17,17,17)",
              "width": 0.5
             },
             "pattern": {
              "fillmode": "overlay",
              "size": 10,
              "solidity": 0.2
             }
            },
            "type": "bar"
           }
          ],
          "scattergeo": [
           {
            "type": "scattergeo",
            "marker": {
             "colorbar": {
              "outlinewidth": 0,
              "ticks": ""
             }
            }
           }
          ],
          "scatterpolar": [
           {
            "type": "scatterpolar",
            "marker": {
             "colorbar": {
              "outlinewidth": 0,
              "ticks": ""
             }
            }
           }
          ],
          "histogram": [
           {
            "marker": {
             "pattern": {
              "fillmode": "overlay",
              "size": 10,
              "solidity": 0.2
             }
            },
            "type": "histogram"
           }
          ],
          "scattergl": [
           {
            "marker": {
             "line": {
              "color": "#283442"
             }
            },
            "type": "scattergl"
           }
          ],
          "scatter3d": [
           {
            "type": "scatter3d",
            "line": {
             "colorbar": {
              "outlinewidth": 0,
              "ticks": ""
             }
            },
            "marker": {
             "colorbar": {
              "outlinewidth": 0,
              "ticks": ""
             }
            }
           }
          ],
          "scattermapbox": [
           {
            "type": "scattermapbox",
            "marker": {
             "colorbar": {
              "outlinewidth": 0,
              "ticks": ""
             }
            }
           }
          ],
          "scatterternary": [
           {
            "type": "scatterternary",
            "marker": {
             "colorbar": {
              "outlinewidth": 0,
              "ticks": ""
             }
            }
           }
          ],
          "scattercarpet": [
           {
            "type": "scattercarpet",
            "marker": {
             "colorbar": {
              "outlinewidth": 0,
              "ticks": ""
             }
            }
           }
          ],
          "carpet": [
           {
            "aaxis": {
             "endlinecolor": "#A2B1C6",
             "gridcolor": "#506784",
             "linecolor": "#506784",
             "minorgridcolor": "#506784",
             "startlinecolor": "#A2B1C6"
            },
            "baxis": {
             "endlinecolor": "#A2B1C6",
             "gridcolor": "#506784",
             "linecolor": "#506784",
             "minorgridcolor": "#506784",
             "startlinecolor": "#A2B1C6"
            },
            "type": "carpet"
           }
          ],
          "table": [
           {
            "cells": {
             "fill": {
              "color": "#506784"
             },
             "line": {
              "color": "rgb(17,17,17)"
             }
            },
            "header": {
             "fill": {
              "color": "#2a3f5f"
             },
             "line": {
              "color": "rgb(17,17,17)"
             }
            },
            "type": "table"
           }
          ],
          "barpolar": [
           {
            "marker": {
             "line": {
              "color": "rgb(17,17,17)",
              "width": 0.5
             },
             "pattern": {
              "fillmode": "overlay",
              "size": 10,
              "solidity": 0.2
             }
            },
            "type": "barpolar"
           }
          ],
          "pie": [
           {
            "automargin": true,
            "type": "pie"
           }
          ]
         },
         "layout": {
          "autotypenumbers": "strict",
          "colorway": [
           "#636efa",
           "#EF553B",
           "#00cc96",
           "#ab63fa",
           "#FFA15A",
           "#19d3f3",
           "#FF6692",
           "#B6E880",
           "#FF97FF",
           "#FECB52"
          ],
          "font": {
           "color": "#f2f5fa"
          },
          "hovermode": "closest",
          "hoverlabel": {
           "align": "left"
          },
          "paper_bgcolor": "rgb(17,17,17)",
          "plot_bgcolor": "rgb(17,17,17)",
          "polar": {
           "bgcolor": "rgb(17,17,17)",
           "angularaxis": {
            "gridcolor": "#506784",
            "linecolor": "#506784",
            "ticks": ""
           },
           "radialaxis": {
            "gridcolor": "#506784",
            "linecolor": "#506784",
            "ticks": ""
           }
          },
          "ternary": {
           "bgcolor": "rgb(17,17,17)",
           "aaxis": {
            "gridcolor": "#506784",
            "linecolor": "#506784",
            "ticks": ""
           },
           "baxis": {
            "gridcolor": "#506784",
            "linecolor": "#506784",
            "ticks": ""
           },
           "caxis": {
            "gridcolor": "#506784",
            "linecolor": "#506784",
            "ticks": ""
           }
          },
          "coloraxis": {
           "colorbar": {
            "outlinewidth": 0,
            "ticks": ""
           }
          },
          "colorscale": {
           "sequential": [
            [
             0.0,
             "#0d0887"
            ],
            [
             0.1111111111111111,
             "#46039f"
            ],
            [
             0.2222222222222222,
             "#7201a8"
            ],
            [
             0.3333333333333333,
             "#9c179e"
            ],
            [
             0.4444444444444444,
             "#bd3786"
            ],
            [
             0.5555555555555556,
             "#d8576b"
            ],
            [
             0.6666666666666666,
             "#ed7953"
            ],
            [
             0.7777777777777778,
             "#fb9f3a"
            ],
            [
             0.8888888888888888,
             "#fdca26"
            ],
            [
             1.0,
             "#f0f921"
            ]
           ],
           "sequentialminus": [
            [
             0.0,
             "#0d0887"
            ],
            [
             0.1111111111111111,
             "#46039f"
            ],
            [
             0.2222222222222222,
             "#7201a8"
            ],
            [
             0.3333333333333333,
             "#9c179e"
            ],
            [
             0.4444444444444444,
             "#bd3786"
            ],
            [
             0.5555555555555556,
             "#d8576b"
            ],
            [
             0.6666666666666666,
             "#ed7953"
            ],
            [
             0.7777777777777778,
             "#fb9f3a"
            ],
            [
             0.8888888888888888,
             "#fdca26"
            ],
            [
             1.0,
             "#f0f921"
            ]
           ],
           "diverging": [
            [
             0,
             "#8e0152"
            ],
            [
             0.1,
             "#c51b7d"
            ],
            [
             0.2,
             "#de77ae"
            ],
            [
             0.3,
             "#f1b6da"
            ],
            [
             0.4,
             "#fde0ef"
            ],
            [
             0.5,
             "#f7f7f7"
            ],
            [
             0.6,
             "#e6f5d0"
            ],
            [
             0.7,
             "#b8e186"
            ],
            [
             0.8,
             "#7fbc41"
            ],
            [
             0.9,
             "#4d9221"
            ],
            [
             1,
             "#276419"
            ]
           ]
          },
          "xaxis": {
           "gridcolor": "#283442",
           "linecolor": "#506784",
           "ticks": "",
           "title": {
            "standoff": 15
           },
           "zerolinecolor": "#283442",
           "automargin": true,
           "zerolinewidth": 2
          },
          "yaxis": {
           "gridcolor": "#283442",
           "linecolor": "#506784",
           "ticks": "",
           "title": {
            "standoff": 15
           },
           "zerolinecolor": "#283442",
           "automargin": true,
           "zerolinewidth": 2
          },
          "scene": {
           "xaxis": {
            "backgroundcolor": "rgb(17,17,17)",
            "gridcolor": "#506784",
            "linecolor": "#506784",
            "showbackground": true,
            "ticks": "",
            "zerolinecolor": "#C8D4E3",
            "gridwidth": 2
           },
           "yaxis": {
            "backgroundcolor": "rgb(17,17,17)",
            "gridcolor": "#506784",
            "linecolor": "#506784",
            "showbackground": true,
            "ticks": "",
            "zerolinecolor": "#C8D4E3",
            "gridwidth": 2
           },
           "zaxis": {
            "backgroundcolor": "rgb(17,17,17)",
            "gridcolor": "#506784",
            "linecolor": "#506784",
            "showbackground": true,
            "ticks": "",
            "zerolinecolor": "#C8D4E3",
            "gridwidth": 2
           }
          },
          "shapedefaults": {
           "line": {
            "color": "#f2f5fa"
           }
          },
          "annotationdefaults": {
           "arrowcolor": "#f2f5fa",
           "arrowhead": 0,
           "arrowwidth": 1
          },
          "geo": {
           "bgcolor": "rgb(17,17,17)",
           "landcolor": "rgb(17,17,17)",
           "subunitcolor": "#506784",
           "showland": true,
           "showlakes": true,
           "lakecolor": "rgb(17,17,17)"
          },
          "title": {
           "x": 0.05
          },
          "updatemenudefaults": {
           "bgcolor": "#506784",
           "borderwidth": 0
          },
          "sliderdefaults": {
           "bgcolor": "#C8D4E3",
           "borderwidth": 1,
           "bordercolor": "rgb(17,17,17)",
           "tickwidth": 0
          },
          "mapbox": {
           "style": "dark"
          }
         }
        },
        "xaxis": {
         "anchor": "y",
         "domain": [
          0.0,
          1.0
         ],
         "title": {
          "text": "Districts"
         }
        },
        "yaxis": {
         "anchor": "x",
         "domain": [
          0.0,
          1.0
         ],
         "title": {
          "text": "Emigrants"
         }
        },
        "legend": {
         "title": {
          "text": "variable"
         },
         "tracegroupgap": 0
        },
        "margin": {
         "t": 60
        },
        "barmode": "group"
       },
       "config": {
        "plotlyServerURL": "https://plot.ly"
       }
      },
      "text/html": "<div>                            <div id=\"d1b94800-3a76-46d5-abd4-48cc78dd75ce\" class=\"plotly-graph-div\" style=\"height:525px; width:100%;\"></div>            <script type=\"text/javascript\">                require([\"plotly\"], function(Plotly) {                    window.PLOTLYENV=window.PLOTLYENV || {};                                    if (document.getElementById(\"d1b94800-3a76-46d5-abd4-48cc78dd75ce\")) {                    Plotly.newPlot(                        \"d1b94800-3a76-46d5-abd4-48cc78dd75ce\",                        [{\"alignmentgroup\":\"True\",\"bingroup\":\"x\",\"histfunc\":\"sum\",\"hovertemplate\":\"variable=Immigrants<br>District Name=%{x}<br>sum of value=%{y}<extra></extra>\",\"legendgroup\":\"Immigrants\",\"marker\":{\"color\":0.283229,\"pattern\":{\"shape\":\"\"}},\"name\":\"Immigrants\",\"offsetgroup\":\"Immigrants\",\"orientation\":\"v\",\"showlegend\":true,\"x\":[\"Ciutat Vella\",\"Eixample\",\"Gr\\u00e0cia\",\"Horta-Guinard\\u00f3\",\"Les Corts\",\"No consta\",\"Nou Barris\",\"Sant Andreu\",\"Sant Mart\\u00ed\",\"Sants-Montju\\u00efc\",\"Sarri\\u00e0-Sant Gervasi\"],\"xaxis\":\"x\",\"y\":[35355,52700,20168,21309,12570,17,22560,17709,35114,33125,20854],\"yaxis\":\"y\",\"type\":\"histogram\"},{\"alignmentgroup\":\"True\",\"bingroup\":\"x\",\"histfunc\":\"sum\",\"hovertemplate\":\"variable=Emigrants<br>District Name=%{x}<br>sum of value=%{y}<extra></extra>\",\"legendgroup\":\"Emigrants\",\"marker\":{\"color\":0.120777,\"pattern\":{\"shape\":\"\"}},\"name\":\"Emigrants\",\"offsetgroup\":\"Emigrants\",\"orientation\":\"v\",\"showlegend\":true,\"x\":[\"Ciutat Vella\",\"Eixample\",\"Gr\\u00e0cia\",\"Horta-Guinard\\u00f3\",\"Les Corts\",\"No consta\",\"Nou Barris\",\"Sant Andreu\",\"Sant Mart\\u00ed\",\"Sants-Montju\\u00efc\",\"Sarri\\u00e0-Sant Gervasi\"],\"xaxis\":\"x\",\"y\":[14171,26062,11009,13936,7811,13,14802,12563,22470,21819,12379],\"yaxis\":\"y\",\"type\":\"histogram\"}],                        {\"template\":{\"data\":{\"histogram2dcontour\":[{\"type\":\"histogram2dcontour\",\"colorbar\":{\"outlinewidth\":0,\"ticks\":\"\"},\"colorscale\":[[0.0,\"#0d0887\"],[0.1111111111111111,\"#46039f\"],[0.2222222222222222,\"#7201a8\"],[0.3333333333333333,\"#9c179e\"],[0.4444444444444444,\"#bd3786\"],[0.5555555555555556,\"#d8576b\"],[0.6666666666666666,\"#ed7953\"],[0.7777777777777778,\"#fb9f3a\"],[0.8888888888888888,\"#fdca26\"],[1.0,\"#f0f921\"]]}],\"choropleth\":[{\"type\":\"choropleth\",\"colorbar\":{\"outlinewidth\":0,\"ticks\":\"\"}}],\"histogram2d\":[{\"type\":\"histogram2d\",\"colorbar\":{\"outlinewidth\":0,\"ticks\":\"\"},\"colorscale\":[[0.0,\"#0d0887\"],[0.1111111111111111,\"#46039f\"],[0.2222222222222222,\"#7201a8\"],[0.3333333333333333,\"#9c179e\"],[0.4444444444444444,\"#bd3786\"],[0.5555555555555556,\"#d8576b\"],[0.6666666666666666,\"#ed7953\"],[0.7777777777777778,\"#fb9f3a\"],[0.8888888888888888,\"#fdca26\"],[1.0,\"#f0f921\"]]}],\"heatmap\":[{\"type\":\"heatmap\",\"colorbar\":{\"outlinewidth\":0,\"ticks\":\"\"},\"colorscale\":[[0.0,\"#0d0887\"],[0.1111111111111111,\"#46039f\"],[0.2222222222222222,\"#7201a8\"],[0.3333333333333333,\"#9c179e\"],[0.4444444444444444,\"#bd3786\"],[0.5555555555555556,\"#d8576b\"],[0.6666666666666666,\"#ed7953\"],[0.7777777777777778,\"#fb9f3a\"],[0.8888888888888888,\"#fdca26\"],[1.0,\"#f0f921\"]]}],\"heatmapgl\":[{\"type\":\"heatmapgl\",\"colorbar\":{\"outlinewidth\":0,\"ticks\":\"\"},\"colorscale\":[[0.0,\"#0d0887\"],[0.1111111111111111,\"#46039f\"],[0.2222222222222222,\"#7201a8\"],[0.3333333333333333,\"#9c179e\"],[0.4444444444444444,\"#bd3786\"],[0.5555555555555556,\"#d8576b\"],[0.6666666666666666,\"#ed7953\"],[0.7777777777777778,\"#fb9f3a\"],[0.8888888888888888,\"#fdca26\"],[1.0,\"#f0f921\"]]}],\"contourcarpet\":[{\"type\":\"contourcarpet\",\"colorbar\":{\"outlinewidth\":0,\"ticks\":\"\"}}],\"contour\":[{\"type\":\"contour\",\"colorbar\":{\"outlinewidth\":0,\"ticks\":\"\"},\"colorscale\":[[0.0,\"#0d0887\"],[0.1111111111111111,\"#46039f\"],[0.2222222222222222,\"#7201a8\"],[0.3333333333333333,\"#9c179e\"],[0.4444444444444444,\"#bd3786\"],[0.5555555555555556,\"#d8576b\"],[0.6666666666666666,\"#ed7953\"],[0.7777777777777778,\"#fb9f3a\"],[0.8888888888888888,\"#fdca26\"],[1.0,\"#f0f921\"]]}],\"surface\":[{\"type\":\"surface\",\"colorbar\":{\"outlinewidth\":0,\"ticks\":\"\"},\"colorscale\":[[0.0,\"#0d0887\"],[0.1111111111111111,\"#46039f\"],[0.2222222222222222,\"#7201a8\"],[0.3333333333333333,\"#9c179e\"],[0.4444444444444444,\"#bd3786\"],[0.5555555555555556,\"#d8576b\"],[0.6666666666666666,\"#ed7953\"],[0.7777777777777778,\"#fb9f3a\"],[0.8888888888888888,\"#fdca26\"],[1.0,\"#f0f921\"]]}],\"mesh3d\":[{\"type\":\"mesh3d\",\"colorbar\":{\"outlinewidth\":0,\"ticks\":\"\"}}],\"scatter\":[{\"marker\":{\"line\":{\"color\":\"#283442\"}},\"type\":\"scatter\"}],\"parcoords\":[{\"type\":\"parcoords\",\"line\":{\"colorbar\":{\"outlinewidth\":0,\"ticks\":\"\"}}}],\"scatterpolargl\":[{\"type\":\"scatterpolargl\",\"marker\":{\"colorbar\":{\"outlinewidth\":0,\"ticks\":\"\"}}}],\"bar\":[{\"error_x\":{\"color\":\"#f2f5fa\"},\"error_y\":{\"color\":\"#f2f5fa\"},\"marker\":{\"line\":{\"color\":\"rgb(17,17,17)\",\"width\":0.5},\"pattern\":{\"fillmode\":\"overlay\",\"size\":10,\"solidity\":0.2}},\"type\":\"bar\"}],\"scattergeo\":[{\"type\":\"scattergeo\",\"marker\":{\"colorbar\":{\"outlinewidth\":0,\"ticks\":\"\"}}}],\"scatterpolar\":[{\"type\":\"scatterpolar\",\"marker\":{\"colorbar\":{\"outlinewidth\":0,\"ticks\":\"\"}}}],\"histogram\":[{\"marker\":{\"pattern\":{\"fillmode\":\"overlay\",\"size\":10,\"solidity\":0.2}},\"type\":\"histogram\"}],\"scattergl\":[{\"marker\":{\"line\":{\"color\":\"#283442\"}},\"type\":\"scattergl\"}],\"scatter3d\":[{\"type\":\"scatter3d\",\"line\":{\"colorbar\":{\"outlinewidth\":0,\"ticks\":\"\"}},\"marker\":{\"colorbar\":{\"outlinewidth\":0,\"ticks\":\"\"}}}],\"scattermapbox\":[{\"type\":\"scattermapbox\",\"marker\":{\"colorbar\":{\"outlinewidth\":0,\"ticks\":\"\"}}}],\"scatterternary\":[{\"type\":\"scatterternary\",\"marker\":{\"colorbar\":{\"outlinewidth\":0,\"ticks\":\"\"}}}],\"scattercarpet\":[{\"type\":\"scattercarpet\",\"marker\":{\"colorbar\":{\"outlinewidth\":0,\"ticks\":\"\"}}}],\"carpet\":[{\"aaxis\":{\"endlinecolor\":\"#A2B1C6\",\"gridcolor\":\"#506784\",\"linecolor\":\"#506784\",\"minorgridcolor\":\"#506784\",\"startlinecolor\":\"#A2B1C6\"},\"baxis\":{\"endlinecolor\":\"#A2B1C6\",\"gridcolor\":\"#506784\",\"linecolor\":\"#506784\",\"minorgridcolor\":\"#506784\",\"startlinecolor\":\"#A2B1C6\"},\"type\":\"carpet\"}],\"table\":[{\"cells\":{\"fill\":{\"color\":\"#506784\"},\"line\":{\"color\":\"rgb(17,17,17)\"}},\"header\":{\"fill\":{\"color\":\"#2a3f5f\"},\"line\":{\"color\":\"rgb(17,17,17)\"}},\"type\":\"table\"}],\"barpolar\":[{\"marker\":{\"line\":{\"color\":\"rgb(17,17,17)\",\"width\":0.5},\"pattern\":{\"fillmode\":\"overlay\",\"size\":10,\"solidity\":0.2}},\"type\":\"barpolar\"}],\"pie\":[{\"automargin\":true,\"type\":\"pie\"}]},\"layout\":{\"autotypenumbers\":\"strict\",\"colorway\":[\"#636efa\",\"#EF553B\",\"#00cc96\",\"#ab63fa\",\"#FFA15A\",\"#19d3f3\",\"#FF6692\",\"#B6E880\",\"#FF97FF\",\"#FECB52\"],\"font\":{\"color\":\"#f2f5fa\"},\"hovermode\":\"closest\",\"hoverlabel\":{\"align\":\"left\"},\"paper_bgcolor\":\"rgb(17,17,17)\",\"plot_bgcolor\":\"rgb(17,17,17)\",\"polar\":{\"bgcolor\":\"rgb(17,17,17)\",\"angularaxis\":{\"gridcolor\":\"#506784\",\"linecolor\":\"#506784\",\"ticks\":\"\"},\"radialaxis\":{\"gridcolor\":\"#506784\",\"linecolor\":\"#506784\",\"ticks\":\"\"}},\"ternary\":{\"bgcolor\":\"rgb(17,17,17)\",\"aaxis\":{\"gridcolor\":\"#506784\",\"linecolor\":\"#506784\",\"ticks\":\"\"},\"baxis\":{\"gridcolor\":\"#506784\",\"linecolor\":\"#506784\",\"ticks\":\"\"},\"caxis\":{\"gridcolor\":\"#506784\",\"linecolor\":\"#506784\",\"ticks\":\"\"}},\"coloraxis\":{\"colorbar\":{\"outlinewidth\":0,\"ticks\":\"\"}},\"colorscale\":{\"sequential\":[[0.0,\"#0d0887\"],[0.1111111111111111,\"#46039f\"],[0.2222222222222222,\"#7201a8\"],[0.3333333333333333,\"#9c179e\"],[0.4444444444444444,\"#bd3786\"],[0.5555555555555556,\"#d8576b\"],[0.6666666666666666,\"#ed7953\"],[0.7777777777777778,\"#fb9f3a\"],[0.8888888888888888,\"#fdca26\"],[1.0,\"#f0f921\"]],\"sequentialminus\":[[0.0,\"#0d0887\"],[0.1111111111111111,\"#46039f\"],[0.2222222222222222,\"#7201a8\"],[0.3333333333333333,\"#9c179e\"],[0.4444444444444444,\"#bd3786\"],[0.5555555555555556,\"#d8576b\"],[0.6666666666666666,\"#ed7953\"],[0.7777777777777778,\"#fb9f3a\"],[0.8888888888888888,\"#fdca26\"],[1.0,\"#f0f921\"]],\"diverging\":[[0,\"#8e0152\"],[0.1,\"#c51b7d\"],[0.2,\"#de77ae\"],[0.3,\"#f1b6da\"],[0.4,\"#fde0ef\"],[0.5,\"#f7f7f7\"],[0.6,\"#e6f5d0\"],[0.7,\"#b8e186\"],[0.8,\"#7fbc41\"],[0.9,\"#4d9221\"],[1,\"#276419\"]]},\"xaxis\":{\"gridcolor\":\"#283442\",\"linecolor\":\"#506784\",\"ticks\":\"\",\"title\":{\"standoff\":15},\"zerolinecolor\":\"#283442\",\"automargin\":true,\"zerolinewidth\":2},\"yaxis\":{\"gridcolor\":\"#283442\",\"linecolor\":\"#506784\",\"ticks\":\"\",\"title\":{\"standoff\":15},\"zerolinecolor\":\"#283442\",\"automargin\":true,\"zerolinewidth\":2},\"scene\":{\"xaxis\":{\"backgroundcolor\":\"rgb(17,17,17)\",\"gridcolor\":\"#506784\",\"linecolor\":\"#506784\",\"showbackground\":true,\"ticks\":\"\",\"zerolinecolor\":\"#C8D4E3\",\"gridwidth\":2},\"yaxis\":{\"backgroundcolor\":\"rgb(17,17,17)\",\"gridcolor\":\"#506784\",\"linecolor\":\"#506784\",\"showbackground\":true,\"ticks\":\"\",\"zerolinecolor\":\"#C8D4E3\",\"gridwidth\":2},\"zaxis\":{\"backgroundcolor\":\"rgb(17,17,17)\",\"gridcolor\":\"#506784\",\"linecolor\":\"#506784\",\"showbackground\":true,\"ticks\":\"\",\"zerolinecolor\":\"#C8D4E3\",\"gridwidth\":2}},\"shapedefaults\":{\"line\":{\"color\":\"#f2f5fa\"}},\"annotationdefaults\":{\"arrowcolor\":\"#f2f5fa\",\"arrowhead\":0,\"arrowwidth\":1},\"geo\":{\"bgcolor\":\"rgb(17,17,17)\",\"landcolor\":\"rgb(17,17,17)\",\"subunitcolor\":\"#506784\",\"showland\":true,\"showlakes\":true,\"lakecolor\":\"rgb(17,17,17)\"},\"title\":{\"x\":0.05},\"updatemenudefaults\":{\"bgcolor\":\"#506784\",\"borderwidth\":0},\"sliderdefaults\":{\"bgcolor\":\"#C8D4E3\",\"borderwidth\":1,\"bordercolor\":\"rgb(17,17,17)\",\"tickwidth\":0},\"mapbox\":{\"style\":\"dark\"}}},\"xaxis\":{\"anchor\":\"y\",\"domain\":[0.0,1.0],\"title\":{\"text\":\"Districts\"}},\"yaxis\":{\"anchor\":\"x\",\"domain\":[0.0,1.0],\"title\":{\"text\":\"Emigrants\"}},\"legend\":{\"title\":{\"text\":\"variable\"},\"tracegroupgap\":0},\"margin\":{\"t\":60},\"barmode\":\"group\"},                        {\"responsive\": true}                    ).then(function(){\n                            \nvar gd = document.getElementById('d1b94800-3a76-46d5-abd4-48cc78dd75ce');\nvar x = new MutationObserver(function (mutations, observer) {{\n        var display = window.getComputedStyle(gd).display;\n        if (!display || display === 'none') {{\n            console.log([gd, 'removed!']);\n            Plotly.purge(gd);\n            observer.disconnect();\n        }}\n}});\n\n// Listen for the removal of the full notebook cells\nvar notebookContainer = gd.closest('#notebook-container');\nif (notebookContainer) {{\n    x.observe(notebookContainer, {childList: true});\n}}\n\n// Listen for the clearing of the current output cell\nvar outputEl = gd.closest('.output');\nif (outputEl) {{\n    x.observe(outputEl, {childList: true});\n}}\n\n                        })                };                });            </script>        </div>"
     },
     "metadata": {},
     "output_type": "display_data"
    },
    {
     "data": {
      "text/plain": "'Plots/MigrantsDistribution_Districts.html'"
     },
     "execution_count": 30,
     "metadata": {},
     "output_type": "execute_result"
    }
   ],
   "source": [
    "df = migrants_age_df.groupby(['District Name']).agg({'Immigrants': np.sum, 'Emigrants': np.sum}).reset_index()\n",
    "color_sequence = sns.color_palette(palette='viridis', n_colors=len(df['District Name'].unique()))\n",
    "\n",
    "melted_df = pd.melt(df, id_vars=['District Name'], value_vars=['Immigrants', 'Emigrants'])\n",
    "fig = px.histogram(melted_df, x='District Name', y='value', hover_name='District Name',\n",
    "                   color='variable', color_discrete_sequence=color_sequence[0])\n",
    "fig.update_layout(\n",
    "    xaxis_title='Districts',\n",
    "    yaxis_title='Emigrants',\n",
    "    barmode='group'\n",
    ")\n",
    "fig.show()\n",
    "pyo.plot(fig, filename='Plots/MigrantsDistribution_Districts.html', auto_open=False)"
   ],
   "metadata": {
    "collapsed": false,
    "ExecuteTime": {
     "start_time": "2023-09-21T03:59:49.013920Z",
     "end_time": "2023-09-21T03:59:49.162293Z"
    }
   }
  },
  {
   "cell_type": "code",
   "execution_count": null,
   "outputs": [],
   "source": [
    "df = migrants_age_df.groupby(['Year', 'Age', 'District Name']).agg(\n",
    "    {'Immigrants': np.sum, 'Emigrants': np.sum}).reset_index()\n",
    "df1_9 = df[(df['Age'] == '0-4') | (df['Age'] == '5-9')]\n",
    "df = pd.concat([df1_9, df[(df['Age'] != '0-4') & (df['Age'] != '5-9')]])\n",
    "color_sequence = sns.color_palette(palette='viridis', n_colors=len(df['District Name'].unique()))\n",
    "\n",
    "# melted_df = pd.melt(df, id_vars=['District Name', 'Year'], value_vars=['Immigrants', 'Emigrants'])\n",
    "fig = px.histogram(df, x='Age', y='Emigrants', animation_frame='Year', hover_name='District Name',\n",
    "                   color='District Name', color_discrete_sequence=color_sequence[0])\n",
    "fig.update_layout(\n",
    "    xaxis_title='Districts',\n",
    "    yaxis_title='Emigrants',\n",
    "    barmode='group'\n",
    ")\n",
    "fig.show()\n",
    "pyo.plot(fig, filename='Plots/EmigrantsDistribution_Districts.html', auto_open=False)\n",
    "\n"
   ],
   "metadata": {
    "collapsed": false
   }
  },
  {
   "cell_type": "code",
   "execution_count": null,
   "outputs": [],
   "source": [
    "df = migrants_age_df.groupby(['Year', 'Age', 'District Name']).agg(\n",
    "    {'Immigrants': np.sum, 'Emigrants': np.sum}).reset_index()\n",
    "df1_9 = df[(df['Age'] == '0-4') | (df['Age'] == '5-9')]\n",
    "df = pd.concat([df1_9, df[(df['Age'] != '0-4') & (df['Age'] != '5-9')]])\n",
    "color_sequence = sns.color_palette(palette='viridis', n_colors=len(df['District Name'].unique()))\n",
    "\n",
    "# melted_df = pd.melt(df, id_vars=['District Name', 'Year'], value_vars=['Immigrants', 'Emigrants'])\n",
    "fig = px.histogram(df, x='Age', y='Immigrants', animation_frame='Year', hover_name='District Name',\n",
    "                   color='District Name', color_discrete_sequence=color_sequence[0])\n",
    "fig.update_layout(\n",
    "    xaxis_title='Districts',\n",
    "    yaxis_title='Immigrants',\n",
    "    barmode='group'\n",
    ")\n",
    "fig.show()\n",
    "pyo.plot(fig, filename='Plots/ImmigrantsDistribution_Districts.html', auto_open=False)"
   ],
   "metadata": {
    "collapsed": false
   }
  },
  {
   "cell_type": "code",
   "execution_count": null,
   "outputs": [],
   "source": [
    "def calcChange(row):\n",
    "    if row['Year'] <= 2013:\n",
    "        return row\n",
    "    row['Change'] = row['Number'] - df[\n",
    "        (df['Year'] == row['Year'] - 1) & (df['District.Name'] == row['District.Name']) & (df['Age'] == row['Age'])][\n",
    "        'Number'].item()\n",
    "    return row\n",
    "\n",
    "\n",
    "df = df.apply(calcChange, axis=1)\n",
    "fig = px.histogram(df[df['Year'] > 2013], x='Age', y='Change', animation_frame='Year', hover_name='District.Name',\n",
    "                   color='District.Name', color_discrete_sequence=color_sequence[0])\n",
    "fig.update_layout(\n",
    "    xaxis_title='Ages',\n",
    "    yaxis_title='Change (Number of People)',\n",
    "    barmode='group'\n",
    ")\n",
    "fig.show()\n",
    "pyo.plot(fig, filename='Plots/AgeChange_Districts.html', auto_open=False)\n"
   ],
   "metadata": {
    "collapsed": false
   }
  },
  {
   "cell_type": "code",
   "execution_count": null,
   "outputs": [],
   "source": [
    "df = bus_stops_df[population_df['Year'] == 2017].groupby(['District.Name']).agg({'Bus.Stop': 'count'}).reset_index()\n",
    "def calc(row):\n",
    "    row['percent'] = 1 / (row['Bus.Stop'] / population_df[\n",
    "        (population_df['Year'] == 2017) & (population_df['District.Name'] == row['District.Name'])]['Number'].sum())\n",
    "    return row\n",
    "df = df.apply(calc, axis=1)\n",
    "df\n"
   ],
   "metadata": {
    "collapsed": false
   }
  },
  {
   "cell_type": "code",
   "execution_count": null,
   "outputs": [],
   "source": [
    "barcelona_coords = [41.3851, 2.1734]\n",
    "transport_colors = {\n",
    "    \"Underground\": \"red\",\n",
    "    \"Tram\": \"green\"\n",
    "}\n",
    "\n",
    "# Create a folium map centered at Barcelona\n",
    "barcelona_map = folium.Map(location=barcelona_coords, zoom_start=12)\n",
    "\n",
    "df = population_df.groupby(['Year', 'District.Name']).agg({'Number': sum}).reset_index()\n",
    "df = df[df['Year'] == 2017]\n",
    "folium.Choropleth(\n",
    "    geo_data=gjson_distr,\n",
    "    name='Choropleth',\n",
    "    data=df,\n",
    "    color = 'Number',\n",
    "    locations = 'District.Name',\n",
    "    # featureidkey=\"properties.NOM\",\n",
    "    columns=['District.Name', 'Number'],\n",
    "    key_on='feature.properties.NOM',\n",
    "    fill_color='YlOrRd',\n",
    "    fill_opacity=0.7,\n",
    "    line_opacity=0.2,\n",
    "    legend_name='Population by Neighborhood in Barcelona (2017)'\n",
    ").add_to(barcelona_map)\n",
    "# Add transport stops to the map with different colors based on the type of transport\n",
    "# for index, row in bus_stops_df[\n",
    "#     (bus_stops_df['Transport'] == 'Day bus stop') | (bus_stops_df['Transport'] == 'Bus station')].iterrows():\n",
    "#     folium.CircleMarker(\n",
    "#         location=[row['Latitude'], row['Longitude']],\n",
    "#         radius=3,\n",
    "#         color=\"blue\",\n",
    "#         fill=True,\n",
    "#         fill_color=\"blue\",\n",
    "#     ).add_to(barcelona_map)\n",
    "\n",
    "for index, row in transport_df.iterrows():\n",
    "    if row['Transport'] in transport_colors:\n",
    "        folium.CircleMarker(\n",
    "            location=[row['Latitude'], row['Longitude']],\n",
    "            radius=3,\n",
    "            color=transport_colors[row['Transport']],\n",
    "            fill=True,\n",
    "            fill_color=transport_colors[row['Transport']],\n",
    "            tooltip=row['Station']\n",
    "        ).add_to(barcelona_map)\n",
    "\n",
    "# Display the map\n",
    "barcelona_map.save('Plots/Transport.html')\n",
    "\n"
   ],
   "metadata": {
    "collapsed": false
   }
  },
  {
   "cell_type": "code",
   "execution_count": null,
   "outputs": [],
   "source": [
    "# stations = pd.concat([transport_df[\n",
    "#                           (transport_df['Transport'] == 'Underground') | (transport_df['Transport'] == 'Tram')][\n",
    "#                           ['Longitude', 'Latitude']], bus_stops_df[\n",
    "#                           (bus_stops_df['Transport'] == 'Day bus stop') | (bus_stops_df['Transport'] == 'Bus station')][\n",
    "#                           ['Longitude', 'Latitude']]])\n",
    "stations = pd.concat([transport_df[\n",
    "                          (transport_df['Transport'] == 'Underground')][\n",
    "                          ['Longitude', 'Latitude']]])\n",
    "\n"
   ],
   "metadata": {
    "collapsed": false
   }
  },
  {
   "cell_type": "code",
   "execution_count": null,
   "outputs": [],
   "source": [
    "from scipy.spatial import cKDTree\n",
    "from shapely.geometry import Point, shape\n",
    "\n",
    "# Create arrays of coordinates for transport stops\n",
    "transport_points_array = np.array([(x, y) for x, y in zip(stations['Longitude'], stations['Latitude'])])\n",
    "\n",
    "# Get the bounding box of Barcelona\n",
    "x_min, y_min, x_max, y_max = 2.1, 41.33, 2.2284, 41.4687  # You might need to adjust these coordinates to fit Barcelona's bounds accurately\n",
    "\n",
    "# Create a grid of points within the bounding box of Barcelona (1000 x 1000)\n",
    "x_points = np.linspace(x_min, x_max, 200)\n",
    "y_points = np.linspace(y_min, y_max, 200)\n",
    "xy_points = np.array([(x, y) for x in x_points for y in y_points])\n",
    "\n",
    "# Create a KDTree for the transport stops\n",
    "transport_kdtree = cKDTree(transport_points_array)\n",
    "\n",
    "# Find the distance to the nearest transport stop for each point in the grid\n",
    "distances, _ = transport_kdtree.query(xy_points)\n",
    "\n",
    "# Check if each point is within Barcelona boundaries\n",
    "within_barcelona = [any(shape(feature['geometry']).contains(Point(xy)) for feature in gjson_neigh['features']) for xy in\n",
    "                    xy_points]\n",
    "\n",
    "# Assign a distance of -1 to points that are not within Barcelona\n",
    "distances[~np.array(within_barcelona)] = -1\n",
    "\n"
   ],
   "metadata": {
    "collapsed": false
   }
  },
  {
   "cell_type": "code",
   "execution_count": null,
   "outputs": [],
   "source": [
    "barcelona_map = folium.Map(location=barcelona_coords, zoom_start=12)\n",
    "# df = population_df.groupby(['Year', 'Neighborhood.Name']).agg({'Number': sum}).reset_index()\n",
    "# df = df[df['Year'] == 2017]\n",
    "# folium.Choropleth(\n",
    "#     geo_data=gjson_neigh,\n",
    "#     name='Choropleth',\n",
    "#     data=df,\n",
    "#     columns=['Neighborhood.Name', 'Number'],\n",
    "#     key_on='feature.properties.NOM',\n",
    "#     fill_color='YlOrRd',\n",
    "#     fill_opacity=0.7,\n",
    "#     line_opacity=0.2,\n",
    "#     legend_name='Population by Neighborhood in Barcelona (2017)'\n",
    "# ).add_to(barcelona_map)\n",
    "\n",
    "df = pd.DataFrame(np.hstack((np.flip(xy_points, axis=1), distances.reshape((-1, 1))))[distances >= 0])\n",
    "# Add a heatmap layer to visualize the most remote points\n",
    "HeatMap(data=df, radius=8, gradient={0.2: 'blue', 0.4: 'green', 0.6: 'yellow', 1: 'red'}).add_to(barcelona_map)\n",
    "\n",
    "# Save the map to an HTML file\n",
    "barcelona_map.save('Plots/RemotePoints.html')\n",
    "\n"
   ],
   "metadata": {
    "collapsed": false
   }
  },
  {
   "cell_type": "code",
   "execution_count": null,
   "outputs": [],
   "source": [
    "barcelona_coords = [41.3851, 2.1734]\n",
    "transport_colors = {\n",
    "    \"Underground\": \"red\",\n",
    "    \"Tram\": \"green\"\n",
    "}\n",
    "\n",
    "# Create a folium map centered at Barcelona\n",
    "barcelona_map = folium.Map(location=barcelona_coords, zoom_start=12)\n",
    "\n",
    "df = population_df.groupby(['Year', 'Neighborhood.Name']).agg({'Number': sum}).reset_index()\n",
    "df = df[df['Year'] == 2017]\n",
    "folium.Choropleth(\n",
    "    geo_data=gjson_neigh,\n",
    "    name='Choropleth',\n",
    "    data=df,\n",
    "    columns=['Neighborhood.Name', 'Number'],\n",
    "    key_on='feature.properties.NOM',\n",
    "    fill_color='YlOrRd',\n",
    "    fill_opacity=0.7,\n",
    "    line_opacity=0.2,\n",
    "    legend_name='Population by Neighborhood in Barcelona (2017)'\n",
    ").add_to(barcelona_map)\n",
    "# Add transport stops to the map with different colors based on the type of transport\n",
    "# for index, row in bus_stops_df[\n",
    "#     (bus_stops_df['Transport'] == 'Day bus stop') | (bus_stops_df['Transport'] == 'Bus station')].iterrows():\n",
    "#     folium.CircleMarker(\n",
    "#         location=[row['Latitude'], row['Longitude']],\n",
    "#         radius=3,\n",
    "#         color=\"blue\",\n",
    "#         fill=True,\n",
    "#         fill_color=\"blue\",\n",
    "#     ).add_to(barcelona_map)\n",
    "\n",
    "for index, row in transport_df.iterrows():\n",
    "    if row['Transport'] in transport_colors:\n",
    "        folium.CircleMarker(\n",
    "            location=[row['Latitude'], row['Longitude']],\n",
    "            radius=3,\n",
    "            color=transport_colors[row['Transport']],\n",
    "            fill=True,\n",
    "            fill_color=transport_colors[row['Transport']],\n",
    "        ).add_to(barcelona_map)\n",
    "\n",
    "df = pd.DataFrame(np.hstack((np.flip(xy_points, axis=1), distances.reshape((-1, 1))))[distances >= 0],\n",
    "                  columns=['x', 'y', 'dist']).sort_values(by='dist', ascending=False)\n",
    "# for index, row in df.loc[:200].iterrows():\n",
    "#     folium.Marker(\n",
    "#         location=[row['x'], row['y']],\n",
    "#         icon=folium.Icon(icon='map-pin'),\n",
    "#     ).add_to(barcelona_map)\n",
    "# Display the map\n",
    "\n",
    "dbscan = DBSCAN(eps=0.0008, min_samples=3)  # Adjust eps and min_samples as needed\n",
    "X = df[:13000][['x', 'y']].to_numpy()\n",
    "clusters = dbscan.fit_predict(X)\n",
    "\n",
    "# Find the centroid of each cluster\n",
    "unique_clusters = np.unique(clusters)\n",
    "cluster_centroids = np.array([X[clusters == i].mean(axis=0) for i in unique_clusters if i != -1])\n",
    "\n",
    "# Add markers for the centroids of the clusters\n",
    "for centroid in cluster_centroids:\n",
    "    folium.Marker(location=centroid[::1], icon=folium.Icon(icon='map-pin'), tooltip=(str(centroid) + \"\\n\" + str(np.mean(transport_kdtree.query(centroid[::-1], k=3)[0]) * 111139) + \"m\")).add_to(barcelona_map)\n",
    "\n",
    "barcelona_map.save('Plots/RemotePoints_Metro.html')\n",
    "\n"
   ],
   "metadata": {
    "collapsed": false
   }
  },
  {
   "cell_type": "code",
   "execution_count": null,
   "outputs": [],
   "source": [
    "distFromMetro = pd.DataFrame(columns=['x', 'y', 'distances', 'avgDist'])\n",
    "for centroid in cluster_centroids:\n",
    "    dist = transport_kdtree.query(centroid[::-1], k=3)[0] * 111139\n",
    "    avgDist = np.mean(dist)\n",
    "    if avgDist > 1000:\n",
    "        continue\n",
    "    else:\n",
    "        distFromMetro.loc[len(distFromMetro)] = {'x': centroid[0], 'y': centroid[1], 'distances': dist, 'avgDist': avgDist}\n",
    "\n",
    "distFromMetro.to_csv('Plots/distanceFromMetro.csv')\n",
    "\n",
    "\n"
   ],
   "metadata": {
    "collapsed": false
   }
  },
  {
   "cell_type": "code",
   "execution_count": null,
   "outputs": [],
   "source": [
    "\n",
    "barcelona_coords = [41.3851, 2.1734]\n",
    "transport_colors = {\n",
    "    \"Underground\": \"red\",\n",
    "    \"Tram\": \"green\"\n",
    "}\n",
    "\n",
    "# Create a folium map centered at Barcelona\n",
    "barcelona_map = folium.Map(location=barcelona_coords, zoom_start=13)\n",
    "\n",
    "# df = population_df.groupby(['Year', 'Neighborhood.Name']).agg({'Number': sum}).reset_index()\n",
    "# df = df[df['Year'] == 2017]\n",
    "# folium.Choropleth(\n",
    "#     geo_data=gjson_neigh,\n",
    "#     name='Choropleth',\n",
    "#     data=df,\n",
    "#     columns=['Neighborhood.Name', 'Number'],\n",
    "#     key_on='feature.properties.NOM',\n",
    "#     fill_color='YlOrRd',\n",
    "#     fill_opacity=0.7,\n",
    "#     line_opacity=0.2,\n",
    "#     legend_name='Population by Neighborhood in Barcelona (2017)'\n",
    "# ).add_to(barcelona_map)\n",
    "\n",
    "for index, row in bus_stops_df[\n",
    "    (bus_stops_df['Transport'] == 'Day bus stop') | (bus_stops_df['Transport'] == 'Bus station')].iterrows():\n",
    "    folium.CircleMarker(\n",
    "        location=[row['Latitude'], row['Longitude']],\n",
    "        radius=3,\n",
    "        color=\"blue\",\n",
    "        fill=True,\n",
    "        fill_color=\"blue\",\n",
    "    ).add_to(barcelona_map)\n",
    "\n",
    "for index, row in transport_df.iterrows():\n",
    "    if row['Transport'] in transport_colors:\n",
    "        folium.CircleMarker(\n",
    "            location=[row['Latitude'], row['Longitude']],\n",
    "            radius=3,\n",
    "            color=transport_colors[row['Transport']],\n",
    "            fill=True,\n",
    "            fill_color=transport_colors[row['Transport']],\n",
    "        ).add_to(barcelona_map)\n",
    "\n",
    "df = pd.DataFrame(np.hstack((np.flip(xy_points, axis=1), distances.reshape((-1, 1))))[distances >= 0],\n",
    "                  columns=['x', 'y', 'dist']).sort_values(by='dist', ascending=False)\n",
    "\n",
    "HeatMap(df[:13000].to_numpy(), radius=12, blur=15).add_to(barcelona_map)\n",
    "\n",
    "barcelona_map.save('Plots/RemotePoints_Metro_Heatmap.html')\n",
    "\n",
    "\n"
   ],
   "metadata": {
    "collapsed": false
   }
  },
  {
   "cell_type": "code",
   "execution_count": null,
   "outputs": [],
   "source": [
    "\n",
    "pop_df = population_df.groupby(['Year', 'District.Name']).agg({'Number': np.sum}).reset_index()\n",
    "bus_df = bus_stops_df[bus_stops_df['Transport'] == 'Day bus stop'].groupby(['District.Name']).agg({'Bus.Stop': 'count'}).reset_index().sort_values(by='District.Name')\n",
    "bus_df['percent'] = 1/(bus_df['Bus.Stop'] / population_df.sort_values(by='District.Name')[\n",
    "        (population_df.sort_values(by='District.Name')['Year'] == 2017)]['Number'].sum())\n",
    "bus_df['percent'] = 1/(bus_df['Bus.Stop'].to_numpy() / pop_df[\n",
    "        (pop_df['Year'] == 2017)].sort_values(by='District.Name')['Number'].to_numpy())\n",
    "metro_df = transport_df[transport_df['Transport'] == 'Underground'].groupby(['District.Name']).agg({'Station': 'nunique'}).reset_index().sort_values(by='District.Name').reset_index()\n",
    "metro_df['percent'] = 1/(metro_df['Station'].to_numpy() / pop_df[\n",
    "        (pop_df['Year'] == 2017)].sort_values(by='District.Name')['Number'].to_numpy())\n",
    "bus_df\n",
    "# metro_df\n"
   ],
   "metadata": {
    "collapsed": false
   }
  },
  {
   "cell_type": "code",
   "execution_count": null,
   "outputs": [],
   "source": [
    "\n",
    "MetroPoints = np.array([[41.4020, 2.1589], [41.3853, 2.1546], [41.3992, 2.1743], [41.3926, 2.1464]])\n",
    "colors = ['red', 'red', 'red', 'red']\n",
    "\n",
    "barcelona_coords = [41.3851, 2.1734]\n",
    "\n",
    "transport_colors = {\n",
    "    \"Underground\": \"red\",\n",
    "    # \"Tram\": \"green\"\n",
    "}\n",
    "\n",
    "# Create a folium map centered at Barcelona\n",
    "barcelona_map = folium.Map(location=barcelona_coords, zoom_start=12)\n",
    "\n",
    "# df = population_df.groupby(['Year', 'Neighborhood.Name']).agg({'Number': sum}).reset_index()\n",
    "# df = df[df['Year'] == 2017]\n",
    "# folium.Choropleth(\n",
    "#     geo_data=gjson_neigh,\n",
    "#     name='Choropleth',\n",
    "#     data=df,\n",
    "#     columns=['Neighborhood.Name', 'Number'],\n",
    "#     key_on='feature.properties.NOM',\n",
    "#     fill_color='YlOrRd',\n",
    "#     fill_opacity=0.7,\n",
    "#     line_opacity=0.2,\n",
    "#     legend_name='Population by Neighborhood in Barcelona (2017)'\n",
    "# ).add_to(barcelona_map)\n",
    "\n",
    "\n",
    "for index, row in transport_df.iterrows():\n",
    "    if row['Transport'] in transport_colors:\n",
    "        folium.CircleMarker(\n",
    "            location=[row['Latitude'], row['Longitude']],\n",
    "            radius=3,\n",
    "            color='blue',\n",
    "            fill=True,\n",
    "            fill_color='blue',\n",
    "        ).add_to(barcelona_map)\n",
    "\n",
    "# Add markers for the centroids of the clusters\n",
    "for i in range(len(MetroPoints)):\n",
    "        folium.CircleMarker(\n",
    "            location=MetroPoints[i][::1],\n",
    "            radius=6,\n",
    "            color=colors[i],\n",
    "            fill=True,\n",
    "            fill_color=colors[i],\n",
    "            tooltip=str(np.mean(transport_kdtree.query(MetroPoints[i][::-1], k=3)[0]) * 111139)\n",
    "        ).add_to(barcelona_map)\n",
    "\n",
    "barcelona_map.save('Plots/Key_Metro.html')\n",
    "\n"
   ],
   "metadata": {
    "collapsed": false
   }
  },
  {
   "cell_type": "code",
   "execution_count": null,
   "outputs": [],
   "source": [
    "\n",
    "\n",
    "barcelona_coords = [41.3851, 2.1734]\n",
    "transport_colors = {\n",
    "    \"Underground\": \"red\",\n",
    "    \"Tram\": \"green\"\n",
    "}\n",
    "\n",
    "# Create a folium map centered at Barcelona\n",
    "barcelona_map = folium.Map(location=barcelona_coords, zoom_start=13)\n",
    "\n",
    "# df = population_df.groupby(['Year', 'Neighborhood.Name']).agg({'Number': sum}).reset_index()\n",
    "# df = df[df['Year'] == 2017]\n",
    "# folium.Choropleth(\n",
    "#     geo_data=gjson_neigh,\n",
    "#     name='Choropleth',\n",
    "#     data=df,\n",
    "#     columns=['Neighborhood.Name', 'Number'],\n",
    "#     key_on='feature.properties.NOM',\n",
    "#     fill_color='YlOrRd',\n",
    "#     fill_opacity=0.7,\n",
    "#     line_opacity=0.2,\n",
    "#     legend_name='Population by Neighborhood in Barcelona (2017)'\n",
    "# ).add_to(barcelona_map)\n",
    "\n",
    "for index, row in bus_stops_df[\n",
    "    (bus_stops_df['Transport'] == 'Day bus stop') | (bus_stops_df['Transport'] == 'Bus station')].iterrows():\n",
    "    folium.CircleMarker(\n",
    "        location=[row['Latitude'], row['Longitude']],\n",
    "        radius=3,\n",
    "        color=\"blue\",\n",
    "        fill=True,\n",
    "        fill_color=\"blue\",\n",
    "    ).add_to(barcelona_map)\n",
    "\n",
    "for index, row in transport_df.iterrows():\n",
    "    if row['Transport'] in transport_colors:\n",
    "        folium.CircleMarker(\n",
    "            location=[row['Latitude'], row['Longitude']],\n",
    "            radius=3,\n",
    "            color=transport_colors[row['Transport']],\n",
    "            fill=True,\n",
    "            fill_color=transport_colors[row['Transport']],\n",
    "        ).add_to(barcelona_map)\n",
    "\n",
    "df = pd.DataFrame(np.hstack((np.flip(xy_points, axis=1), distances.reshape((-1, 1))))[distances >= 0],\n",
    "                  columns=['x', 'y', 'dist']).sort_values(by='dist', ascending=False)\n",
    "\n",
    "HeatMap(df[:13000].to_numpy(), radius=12, blur=15).add_to(barcelona_map)\n",
    "\n",
    "barcelona_map.save('Plots/RemotePoints_Metro_Heatmap.html')"
   ],
   "metadata": {
    "collapsed": false
   }
  },
  {
   "cell_type": "code",
   "execution_count": 18,
   "outputs": [
    {
     "data": {
      "text/plain": "'Plots/births.html'"
     },
     "execution_count": 18,
     "metadata": {},
     "output_type": "execute_result"
    }
   ],
   "source": [
    "df = births_df.groupby(['District Name']).agg({'Number': np.sum}).reset_index()\n",
    "df = df[df['District Name'] != 'No consta']\n",
    "fig = go.Figure()\n",
    "# fig.add_trace(go.Histogram(x=df['District Name'], y=df['Number']))\n",
    "fig = px.histogram(df, x='District Name', y='Number', color='District Name')\n",
    "fig.update_layout(title='')\n",
    "pyo.plot(fig, filename='Plots/births.html', auto_open=False)\n",
    "# fig.show()"
   ],
   "metadata": {
    "collapsed": false,
    "ExecuteTime": {
     "start_time": "2023-09-21T03:34:54.182198Z",
     "end_time": "2023-09-21T03:34:54.408346Z"
    }
   }
  },
  {
   "cell_type": "code",
   "execution_count": 4,
   "outputs": [
    {
     "ename": "KeyError",
     "evalue": "'Year'",
     "output_type": "error",
     "traceback": [
      "\u001B[1;31m---------------------------------------------------------------------------\u001B[0m",
      "\u001B[1;31mKeyError\u001B[0m                                  Traceback (most recent call last)",
      "Cell \u001B[1;32mIn[4], line 1\u001B[0m\n\u001B[1;32m----> 1\u001B[0m df \u001B[38;5;241m=\u001B[39m \u001B[43maccidents_df\u001B[49m\u001B[38;5;241;43m.\u001B[39;49m\u001B[43mgroupby\u001B[49m\u001B[43m(\u001B[49m\u001B[43m[\u001B[49m\u001B[38;5;124;43m'\u001B[39;49m\u001B[38;5;124;43mDistrict Name\u001B[39;49m\u001B[38;5;124;43m'\u001B[39;49m\u001B[43m,\u001B[49m\u001B[43m \u001B[49m\u001B[38;5;124;43m'\u001B[39;49m\u001B[38;5;124;43mYear\u001B[39;49m\u001B[38;5;124;43m'\u001B[39;49m\u001B[43m]\u001B[49m\u001B[43m)\u001B[49m\u001B[38;5;241m.\u001B[39magg({\u001B[38;5;124m'\u001B[39m\u001B[38;5;124mId\u001B[39m\u001B[38;5;124m'\u001B[39m: \u001B[38;5;124m'\u001B[39m\u001B[38;5;124mnunique\u001B[39m\u001B[38;5;124m'\u001B[39m})\u001B[38;5;241m.\u001B[39mreset_index()\n\u001B[0;32m      2\u001B[0m df \u001B[38;5;241m=\u001B[39m df[df[\u001B[38;5;124m'\u001B[39m\u001B[38;5;124mDistrict Name\u001B[39m\u001B[38;5;124m'\u001B[39m] \u001B[38;5;241m!=\u001B[39m \u001B[38;5;124m'\u001B[39m\u001B[38;5;124mNo consta\u001B[39m\u001B[38;5;124m'\u001B[39m]\n\u001B[0;32m      3\u001B[0m fig \u001B[38;5;241m=\u001B[39m go\u001B[38;5;241m.\u001B[39mFigure()\n",
      "File \u001B[1;32m~\\anaconda3\\lib\\site-packages\\pandas\\core\\frame.py:8402\u001B[0m, in \u001B[0;36mDataFrame.groupby\u001B[1;34m(self, by, axis, level, as_index, sort, group_keys, squeeze, observed, dropna)\u001B[0m\n\u001B[0;32m   8399\u001B[0m     \u001B[38;5;28;01mraise\u001B[39;00m \u001B[38;5;167;01mTypeError\u001B[39;00m(\u001B[38;5;124m\"\u001B[39m\u001B[38;5;124mYou have to supply one of \u001B[39m\u001B[38;5;124m'\u001B[39m\u001B[38;5;124mby\u001B[39m\u001B[38;5;124m'\u001B[39m\u001B[38;5;124m and \u001B[39m\u001B[38;5;124m'\u001B[39m\u001B[38;5;124mlevel\u001B[39m\u001B[38;5;124m'\u001B[39m\u001B[38;5;124m\"\u001B[39m)\n\u001B[0;32m   8400\u001B[0m axis \u001B[38;5;241m=\u001B[39m \u001B[38;5;28mself\u001B[39m\u001B[38;5;241m.\u001B[39m_get_axis_number(axis)\n\u001B[1;32m-> 8402\u001B[0m \u001B[38;5;28;01mreturn\u001B[39;00m \u001B[43mDataFrameGroupBy\u001B[49m\u001B[43m(\u001B[49m\n\u001B[0;32m   8403\u001B[0m \u001B[43m    \u001B[49m\u001B[43mobj\u001B[49m\u001B[38;5;241;43m=\u001B[39;49m\u001B[38;5;28;43mself\u001B[39;49m\u001B[43m,\u001B[49m\n\u001B[0;32m   8404\u001B[0m \u001B[43m    \u001B[49m\u001B[43mkeys\u001B[49m\u001B[38;5;241;43m=\u001B[39;49m\u001B[43mby\u001B[49m\u001B[43m,\u001B[49m\n\u001B[0;32m   8405\u001B[0m \u001B[43m    \u001B[49m\u001B[43maxis\u001B[49m\u001B[38;5;241;43m=\u001B[39;49m\u001B[43maxis\u001B[49m\u001B[43m,\u001B[49m\n\u001B[0;32m   8406\u001B[0m \u001B[43m    \u001B[49m\u001B[43mlevel\u001B[49m\u001B[38;5;241;43m=\u001B[39;49m\u001B[43mlevel\u001B[49m\u001B[43m,\u001B[49m\n\u001B[0;32m   8407\u001B[0m \u001B[43m    \u001B[49m\u001B[43mas_index\u001B[49m\u001B[38;5;241;43m=\u001B[39;49m\u001B[43mas_index\u001B[49m\u001B[43m,\u001B[49m\n\u001B[0;32m   8408\u001B[0m \u001B[43m    \u001B[49m\u001B[43msort\u001B[49m\u001B[38;5;241;43m=\u001B[39;49m\u001B[43msort\u001B[49m\u001B[43m,\u001B[49m\n\u001B[0;32m   8409\u001B[0m \u001B[43m    \u001B[49m\u001B[43mgroup_keys\u001B[49m\u001B[38;5;241;43m=\u001B[39;49m\u001B[43mgroup_keys\u001B[49m\u001B[43m,\u001B[49m\n\u001B[0;32m   8410\u001B[0m \u001B[43m    \u001B[49m\u001B[43msqueeze\u001B[49m\u001B[38;5;241;43m=\u001B[39;49m\u001B[43msqueeze\u001B[49m\u001B[43m,\u001B[49m\n\u001B[0;32m   8411\u001B[0m \u001B[43m    \u001B[49m\u001B[43mobserved\u001B[49m\u001B[38;5;241;43m=\u001B[39;49m\u001B[43mobserved\u001B[49m\u001B[43m,\u001B[49m\n\u001B[0;32m   8412\u001B[0m \u001B[43m    \u001B[49m\u001B[43mdropna\u001B[49m\u001B[38;5;241;43m=\u001B[39;49m\u001B[43mdropna\u001B[49m\u001B[43m,\u001B[49m\n\u001B[0;32m   8413\u001B[0m \u001B[43m\u001B[49m\u001B[43m)\u001B[49m\n",
      "File \u001B[1;32m~\\anaconda3\\lib\\site-packages\\pandas\\core\\groupby\\groupby.py:965\u001B[0m, in \u001B[0;36mGroupBy.__init__\u001B[1;34m(self, obj, keys, axis, level, grouper, exclusions, selection, as_index, sort, group_keys, squeeze, observed, mutated, dropna)\u001B[0m\n\u001B[0;32m    962\u001B[0m \u001B[38;5;28;01mif\u001B[39;00m grouper \u001B[38;5;129;01mis\u001B[39;00m \u001B[38;5;28;01mNone\u001B[39;00m:\n\u001B[0;32m    963\u001B[0m     \u001B[38;5;28;01mfrom\u001B[39;00m \u001B[38;5;21;01mpandas\u001B[39;00m\u001B[38;5;21;01m.\u001B[39;00m\u001B[38;5;21;01mcore\u001B[39;00m\u001B[38;5;21;01m.\u001B[39;00m\u001B[38;5;21;01mgroupby\u001B[39;00m\u001B[38;5;21;01m.\u001B[39;00m\u001B[38;5;21;01mgrouper\u001B[39;00m \u001B[38;5;28;01mimport\u001B[39;00m get_grouper\n\u001B[1;32m--> 965\u001B[0m     grouper, exclusions, obj \u001B[38;5;241m=\u001B[39m \u001B[43mget_grouper\u001B[49m\u001B[43m(\u001B[49m\n\u001B[0;32m    966\u001B[0m \u001B[43m        \u001B[49m\u001B[43mobj\u001B[49m\u001B[43m,\u001B[49m\n\u001B[0;32m    967\u001B[0m \u001B[43m        \u001B[49m\u001B[43mkeys\u001B[49m\u001B[43m,\u001B[49m\n\u001B[0;32m    968\u001B[0m \u001B[43m        \u001B[49m\u001B[43maxis\u001B[49m\u001B[38;5;241;43m=\u001B[39;49m\u001B[43maxis\u001B[49m\u001B[43m,\u001B[49m\n\u001B[0;32m    969\u001B[0m \u001B[43m        \u001B[49m\u001B[43mlevel\u001B[49m\u001B[38;5;241;43m=\u001B[39;49m\u001B[43mlevel\u001B[49m\u001B[43m,\u001B[49m\n\u001B[0;32m    970\u001B[0m \u001B[43m        \u001B[49m\u001B[43msort\u001B[49m\u001B[38;5;241;43m=\u001B[39;49m\u001B[43msort\u001B[49m\u001B[43m,\u001B[49m\n\u001B[0;32m    971\u001B[0m \u001B[43m        \u001B[49m\u001B[43mobserved\u001B[49m\u001B[38;5;241;43m=\u001B[39;49m\u001B[43mobserved\u001B[49m\u001B[43m,\u001B[49m\n\u001B[0;32m    972\u001B[0m \u001B[43m        \u001B[49m\u001B[43mmutated\u001B[49m\u001B[38;5;241;43m=\u001B[39;49m\u001B[38;5;28;43mself\u001B[39;49m\u001B[38;5;241;43m.\u001B[39;49m\u001B[43mmutated\u001B[49m\u001B[43m,\u001B[49m\n\u001B[0;32m    973\u001B[0m \u001B[43m        \u001B[49m\u001B[43mdropna\u001B[49m\u001B[38;5;241;43m=\u001B[39;49m\u001B[38;5;28;43mself\u001B[39;49m\u001B[38;5;241;43m.\u001B[39;49m\u001B[43mdropna\u001B[49m\u001B[43m,\u001B[49m\n\u001B[0;32m    974\u001B[0m \u001B[43m    \u001B[49m\u001B[43m)\u001B[49m\n\u001B[0;32m    976\u001B[0m \u001B[38;5;28mself\u001B[39m\u001B[38;5;241m.\u001B[39mobj \u001B[38;5;241m=\u001B[39m obj\n\u001B[0;32m    977\u001B[0m \u001B[38;5;28mself\u001B[39m\u001B[38;5;241m.\u001B[39maxis \u001B[38;5;241m=\u001B[39m obj\u001B[38;5;241m.\u001B[39m_get_axis_number(axis)\n",
      "File \u001B[1;32m~\\anaconda3\\lib\\site-packages\\pandas\\core\\groupby\\grouper.py:888\u001B[0m, in \u001B[0;36mget_grouper\u001B[1;34m(obj, key, axis, level, sort, observed, mutated, validate, dropna)\u001B[0m\n\u001B[0;32m    886\u001B[0m         in_axis, level, gpr \u001B[38;5;241m=\u001B[39m \u001B[38;5;28;01mFalse\u001B[39;00m, gpr, \u001B[38;5;28;01mNone\u001B[39;00m\n\u001B[0;32m    887\u001B[0m     \u001B[38;5;28;01melse\u001B[39;00m:\n\u001B[1;32m--> 888\u001B[0m         \u001B[38;5;28;01mraise\u001B[39;00m \u001B[38;5;167;01mKeyError\u001B[39;00m(gpr)\n\u001B[0;32m    889\u001B[0m \u001B[38;5;28;01melif\u001B[39;00m \u001B[38;5;28misinstance\u001B[39m(gpr, Grouper) \u001B[38;5;129;01mand\u001B[39;00m gpr\u001B[38;5;241m.\u001B[39mkey \u001B[38;5;129;01mis\u001B[39;00m \u001B[38;5;129;01mnot\u001B[39;00m \u001B[38;5;28;01mNone\u001B[39;00m:\n\u001B[0;32m    890\u001B[0m     \u001B[38;5;66;03m# Add key to exclusions\u001B[39;00m\n\u001B[0;32m    891\u001B[0m     exclusions\u001B[38;5;241m.\u001B[39madd(gpr\u001B[38;5;241m.\u001B[39mkey)\n",
      "\u001B[1;31mKeyError\u001B[0m: 'Year'"
     ]
    }
   ],
   "source": [
    "df = accidents_df.groupby(['District Name', 'Year']).agg({'Id': 'nunique'}).reset_index()\n",
    "df = df[df['District Name'] != 'No consta']\n",
    "fig = go.Figure()\n",
    "fig = px.histogram(df, x='District Name', y='Id', color='District Name', animation_frame='Year')\n",
    "fig.show()\n",
    "# df"
   ],
   "metadata": {
    "collapsed": false,
    "ExecuteTime": {
     "start_time": "2023-09-29T21:49:30.332483Z",
     "end_time": "2023-09-29T21:49:32.301922Z"
    }
   }
  },
  {
   "cell_type": "code",
   "execution_count": 28,
   "outputs": [
    {
     "data": {
      "text/plain": "    Year        District.Name  Number\n40  2017         Ciutat Vella  101387\n41  2017             Eixample  266416\n42  2017               Gràcia  121347\n43  2017       Horta-Guinardó  168751\n44  2017            Les Corts   82033\n45  2017           Nou Barris  166579\n46  2017          Sant Andreu  147594\n47  2017           Sant Martí  235513\n48  2017       Sants-Montjuïc  181910\n49  2017  Sarrià-Sant Gervasi  149279",
      "text/html": "<div>\n<style scoped>\n    .dataframe tbody tr th:only-of-type {\n        vertical-align: middle;\n    }\n\n    .dataframe tbody tr th {\n        vertical-align: top;\n    }\n\n    .dataframe thead th {\n        text-align: right;\n    }\n</style>\n<table border=\"1\" class=\"dataframe\">\n  <thead>\n    <tr style=\"text-align: right;\">\n      <th></th>\n      <th>Year</th>\n      <th>District.Name</th>\n      <th>Number</th>\n    </tr>\n  </thead>\n  <tbody>\n    <tr>\n      <th>40</th>\n      <td>2017</td>\n      <td>Ciutat Vella</td>\n      <td>101387</td>\n    </tr>\n    <tr>\n      <th>41</th>\n      <td>2017</td>\n      <td>Eixample</td>\n      <td>266416</td>\n    </tr>\n    <tr>\n      <th>42</th>\n      <td>2017</td>\n      <td>Gràcia</td>\n      <td>121347</td>\n    </tr>\n    <tr>\n      <th>43</th>\n      <td>2017</td>\n      <td>Horta-Guinardó</td>\n      <td>168751</td>\n    </tr>\n    <tr>\n      <th>44</th>\n      <td>2017</td>\n      <td>Les Corts</td>\n      <td>82033</td>\n    </tr>\n    <tr>\n      <th>45</th>\n      <td>2017</td>\n      <td>Nou Barris</td>\n      <td>166579</td>\n    </tr>\n    <tr>\n      <th>46</th>\n      <td>2017</td>\n      <td>Sant Andreu</td>\n      <td>147594</td>\n    </tr>\n    <tr>\n      <th>47</th>\n      <td>2017</td>\n      <td>Sant Martí</td>\n      <td>235513</td>\n    </tr>\n    <tr>\n      <th>48</th>\n      <td>2017</td>\n      <td>Sants-Montjuïc</td>\n      <td>181910</td>\n    </tr>\n    <tr>\n      <th>49</th>\n      <td>2017</td>\n      <td>Sarrià-Sant Gervasi</td>\n      <td>149279</td>\n    </tr>\n  </tbody>\n</table>\n</div>"
     },
     "execution_count": 28,
     "metadata": {},
     "output_type": "execute_result"
    }
   ],
   "source": [
    "df = population_df.groupby(['Year', 'District.Name']).agg({'Number': 'sum'}).reset_index()\n",
    "df = df[df['District.Name'] != 'No consta']\n",
    "df = df[df['Year'] == 2017]\n",
    "# fig = go.Figure()\n",
    "# fig = px.histogram(df, x='District.Name', y='Number', color='District.Name')\n",
    "# fig.show()\n",
    "df"
   ],
   "metadata": {
    "collapsed": false,
    "ExecuteTime": {
     "start_time": "2023-09-21T03:54:30.289234Z",
     "end_time": "2023-09-21T03:54:30.343269Z"
    }
   }
  },
  {
   "cell_type": "code",
   "execution_count": null,
   "outputs": [],
   "source": [],
   "metadata": {
    "collapsed": false
   }
  }
 ],
 "metadata": {
  "kernelspec": {
   "display_name": "Python 3",
   "language": "python",
   "name": "python3"
  },
  "language_info": {
   "codemirror_mode": {
    "name": "ipython",
    "version": 2
   },
   "file_extension": ".py",
   "mimetype": "text/x-python",
   "name": "python",
   "nbconvert_exporter": "python",
   "pygments_lexer": "ipython2",
   "version": "2.7.6"
  }
 },
 "nbformat": 4,
 "nbformat_minor": 0
}
